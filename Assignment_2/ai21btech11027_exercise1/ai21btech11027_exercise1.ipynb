{
  "cells": [
    {
      "cell_type": "markdown",
      "id": "f584cdd1-68be-4ccf-abf4-eeb06ed72b6d",
      "metadata": {},
      "source": [
        "# Question 1"
      ]
    },
    {
      "cell_type": "markdown",
      "id": "5cd3c7b9-b583-4b29-ae4f-68b2e407125c",
      "metadata": {},
      "source": [
        "### Importing important libraries and functions"
      ]
    },
    {
      "cell_type": "code",
      "execution_count": 30,
      "id": "36df0561-dad9-4b29-98dc-666499849456",
      "metadata": {
        "trusted": true
      },
      "outputs": [],
      "source": [
        "from cProfile import label\n",
        "import pandas as pd\n",
        "from matplotlib import pyplot as plt"
      ]
    },
    {
      "cell_type": "markdown",
      "id": "524ef791-c8ba-4f19-a2c4-44699491420b",
      "metadata": {},
      "source": [
        "### 1.a -Adding new column named “Avg_Unemployment_Rate”"
      ]
    },
    {
      "cell_type": "code",
      "execution_count": 31,
      "id": "704044ae-6f2c-4f9f-8518-9b134110a08e",
      "metadata": {
        "trusted": true
      },
      "outputs": [],
      "source": [
        "df = pd.read_csv('USUnemployment.csv')\n",
        "a=df.iloc[:,1:13].values\n",
        "l_1=a.mean(axis=1)\n",
        "df['Avg_Unemployment_Rate']=l_1\n"
      ]
    },
    {
      "cell_type": "markdown",
      "id": "2590aa55-6f2a-49c2-974f-d7b11c51c19f",
      "metadata": {},
      "source": [
        "### 1.b -Printting the 5 rows of the dataframe with maximum unemployment rate."
      ]
    },
    {
      "cell_type": "code",
      "execution_count": 32,
      "id": "69f1a528-7c72-43ab-ad4a-aae0f56692b1",
      "metadata": {
        "trusted": true
      },
      "outputs": [
        {
          "name": "stdout",
          "output_type": "stream",
          "text": [
            "    Year   Jan   Feb   Mar   Apr   May   Jun  Jul  Aug   Sep   Oct   Nov  \\\n",
            "34  1982   8.6   8.9   9.0   9.3   9.4   9.6  9.8  9.8  10.1  10.4  10.8   \n",
            "62  2010   9.8   9.8   9.9   9.9   9.6   9.4  9.4  9.5   9.5   9.4   9.8   \n",
            "35  1983  10.4  10.4  10.3  10.2  10.1  10.1  9.4  9.5   9.2   8.8   8.5   \n",
            "61  2009   7.8   8.3   8.7   9.0   9.4   9.5  9.5  9.6   9.8  10.0   9.9   \n",
            "63  2011   9.1   9.0   9.0   9.1   9.0   9.1  9.0  9.0   9.0   8.8   8.6   \n",
            "\n",
            "     Dec  Avg_Unemployment_Rate  \n",
            "34  10.8               9.708333  \n",
            "62   9.3               9.608333  \n",
            "35   8.3               9.600000  \n",
            "61   9.9               9.283333  \n",
            "63   8.5               8.933333  \n"
          ]
        }
      ],
      "source": [
        "df_2 = df.copy()\n",
        "df_2 = df_2.sort_values(by=[\"Avg_Unemployment_Rate\"],ascending = False)\n",
        "print(df_2.head(5))"
      ]
    },
    {
      "cell_type": "markdown",
      "id": "2b11cab6-0830-4e0c-8b5a-3f362eb14555",
      "metadata": {},
      "source": [
        "### 2.a - Categorizing year into three different classes named LOW , Medium and High"
      ]
    },
    {
      "cell_type": "code",
      "execution_count": 33,
      "id": "28dc75e7-a8d0-4d16-a9de-d1e51c6d493e",
      "metadata": {
        "trusted": true
      },
      "outputs": [],
      "source": [
        "def cat(AUR):\n",
        "    if AUR < 4:\n",
        "        return \"Low\"\n",
        "    elif(AUR < 6 and AUR >=4):\n",
        "        return \"Medium\"\n",
        "    else :\n",
        "        return \"High\"\n",
        "l_2 = []\n",
        "for i in l_1:\n",
        "    l_2.append(cat(i))\n",
        "df['Unemployment_Status'] = l_2"
      ]
    },
    {
      "cell_type": "markdown",
      "id": "cdd080b9-24ec-46f9-b393-e6f7d1f365c4",
      "metadata": {},
      "source": [
        "### 2.b - Plotting pie chart that displays the percentage of the three classes of Unemployment_Status."
      ]
    },
    {
      "cell_type": "code",
      "execution_count": 34,
      "id": "53be79b5-4ede-4db3-b32c-fb79a7216518",
      "metadata": {
        "trusted": true
      },
      "outputs": [
        {
          "data": {
            "image/png": "[encoded data removed]",
            "text/plain": [
              "<Figure size 432x288 with 1 Axes>"
            ]
          },
          "metadata": {},
          "output_type": "display_data"
        }
      ],
      "source": [
        "l_3 = [0,0,0]\n",
        "for i in l_2:\n",
        "    if i ==\"Low\":\n",
        "        l_3[0] +=1\n",
        "    elif i ==\"Medium\":\n",
        "        l_3[1] +=1\n",
        "    else :\n",
        "        l_3[2] +=1\n",
        "l_4 = [\"Low\",\"Medium\",\"High\"]\n",
        "plt.pie(l_3, labels = l_4)\n",
        "plt.pie(l_3, labels=l_4, autopct='%.1f%%')\n",
        "plt.suptitle('Unemployment_Status')\n",
        "plt.show()"
      ]
    },
    {
      "cell_type": "markdown",
      "id": "5d2273b0-9565-49cf-8b79-24f0eec0dfc1",
      "metadata": {},
      "source": [
        "### 3.a - Adding specified colun named decade"
      ]
    },
    {
      "cell_type": "code",
      "execution_count": 35,
      "id": "3780a82e-478d-4b05-a273-79ae1d376187",
      "metadata": {
        "trusted": true
      },
      "outputs": [
        {
          "name": "stdout",
          "output_type": "stream",
          "text": [
            "[1948 3.4 3.8 4.0 3.9 3.5 3.6 3.6 3.9 3.8 3.7 3.8 4.0 3.75 'Low' '1940s']\n",
            "[1950 6.5 6.4 6.3 5.8 5.5 5.4 5.0 4.5 4.4 4.2 4.2 4.3 5.208333333333333\n",
            " 'Medium' '1950s']\n",
            "[1960 5.2 4.8 5.4 5.2 5.1 5.4 5.5 5.6 5.5 6.1 6.1 6.6 5.541666666666667\n",
            " 'Medium' '1960s']\n",
            "[1970 3.9 4.2 4.4 4.6 4.8 4.9 5.0 5.1 5.4 5.5 5.9 6.1 4.983333333333333\n",
            " 'Medium' '1970s']\n",
            "[1980 6.3 6.3 6.3 6.9 7.5 7.6 7.8 7.7 7.5 7.5 7.5 7.2 7.175000000000001\n",
            " 'High' '1980s']\n",
            "[1990 5.4 5.3 5.2 5.4 5.4 5.2 5.5 5.7 5.9 5.9 6.2 6.3 5.616666666666666\n",
            " 'Medium' '1990s']\n",
            "[2000 4.0 4.1 4.0 3.8 4.0 4.0 4.0 4.1 3.9 3.9 3.9 3.9 3.9666666666666663\n",
            " 'Low' '2000s']\n",
            "[2010 9.8 9.8 9.9 9.9 9.6 9.4 9.4 9.5 9.5 9.4 9.8 9.3 9.608333333333333\n",
            " 'High' '2010s']\n"
          ]
        }
      ],
      "source": [
        "l_5 = []\n",
        "for i in range(len(a)):\n",
        "    b=df.iloc[i,0]\n",
        "    b = b//10\n",
        "    l_5.append(str(b)+\"0s\")\n",
        "    \n",
        "df[\"Decade\"] = l_5\n",
        "\n",
        "l_6 = []\n",
        "for i in range(len(df.loc[:,\"Decade\"])):\n",
        "    if df.loc[i,\"Decade\"] not in l_6:\n",
        "        l_6.append(df.loc[i,\"Decade\"])\n",
        "        print(df.loc[i,:].values)"
      ]
    },
    {
      "cell_type": "markdown",
      "id": "841afe99-a587-474a-9f13-f18a57d8c9a6",
      "metadata": {},
      "source": [
        "### 3.b - Printing first row of each decade"
      ]
    },
    {
      "cell_type": "code",
      "execution_count": 36,
      "id": "ee71b394-8e39-46d7-b3af-49967882c2ad",
      "metadata": {
        "trusted": true
      },
      "outputs": [
        {
          "name": "stdout",
          "output_type": "stream",
          "text": [
            "[1950 6.5 6.4 6.3 5.8 5.5 5.4 5.0 4.5 4.4 4.2 4.2 4.3 5.208333333333333\n",
            " 'Medium' '1950s']\n",
            "[1960 5.2 4.8 5.4 5.2 5.1 5.4 5.5 5.6 5.5 6.1 6.1 6.6 5.541666666666667\n",
            " 'Medium' '1960s']\n",
            "[1970 3.9 4.2 4.4 4.6 4.8 4.9 5.0 5.1 5.4 5.5 5.9 6.1 4.983333333333333\n",
            " 'Medium' '1970s']\n",
            "[1980 6.3 6.3 6.3 6.9 7.5 7.6 7.8 7.7 7.5 7.5 7.5 7.2 7.175000000000001\n",
            " 'High' '1980s']\n",
            "[1990 5.4 5.3 5.2 5.4 5.4 5.2 5.5 5.7 5.9 5.9 6.2 6.3 5.616666666666666\n",
            " 'Medium' '1990s']\n",
            "[2000 4.0 4.1 4.0 3.8 4.0 4.0 4.0 4.1 3.9 3.9 3.9 3.9 3.9666666666666663\n",
            " 'Low' '2000s']\n",
            "[2010 9.8 9.8 9.9 9.9 9.6 9.4 9.4 9.5 9.5 9.4 9.8 9.3 9.608333333333333\n",
            " 'High' '2010s']\n"
          ]
        }
      ],
      "source": [
        "l_6 = []\n",
        "for i in range(len(df.loc[:,\"Decade\"])):\n",
        "    if df.loc[i,'Year'] % 10 == 0:\n",
        "        d=df.loc[i,:].values\n",
        "        print(d)\n",
        "    "
      ]
    },
    {
      "cell_type": "markdown",
      "id": "b7d5eb2e-4ea3-443b-9d02-a8c4bee6b3ab",
      "metadata": {},
      "source": [
        "### 4.a - Performing season-wise average such that twelve months grouped into four season"
      ]
    },
    {
      "cell_type": "code",
      "execution_count": 37,
      "id": "a132e549-03bc-41ec-80d5-e340033800df",
      "metadata": {
        "trusted": true
      },
      "outputs": [],
      "source": [
        "d1 = df.loc[:,['Dec','Jan','Feb']]\n",
        "d2 = df.loc[:,['Mar','Apr','May']]\n",
        "d3 = df.loc[:,['Jun','Jul','Aug']]\n",
        "d4 = df.loc[:,['Sep','Oct','Nov']]\n",
        "\n",
        "df['Winter'] = d1.mean(axis=1)\n",
        "df['Spring'] = d2.mean(axis=1)\n",
        "df['Summer'] = d3.mean(axis=1)\n",
        "df['Autumn'] = d4.mean(axis=1)\n",
        "\n",
        "new_df = df.loc[:,['Year','Winter','Spring','Summer','Autumn']]\n",
        "new_df.set_index(\"Year\",inplace = True)"
      ]
    },
    {
      "cell_type": "markdown",
      "id": "71d5578a-1e69-479c-b043-9c2cd74390bd",
      "metadata": {},
      "source": [
        "### 4.b - Creating a line plot for every season"
      ]
    },
    {
      "cell_type": "code",
      "execution_count": 38,
      "id": "90dd092f-cf97-43b1-b1d1-dcb23a65f74d",
      "metadata": {
        "trusted": true
      },
      "outputs": [
        {
          "data": {
            "image/png": "[encoded data removed]",
            "text/plain": [
              "<Figure size 432x288 with 1 Axes>"
            ]
          },
          "metadata": {
            "needs_background": "light"
          },
          "output_type": "display_data"
        }
      ],
      "source": [
        "plt.plot(df.loc[42:57,'Year'],df.loc[42:57,'Winter'])\n",
        "plt.plot(df.loc[42:57,'Year'],df.loc[42:57,'Spring'])\n",
        "plt.plot(df.loc[42:57,'Year'],df.loc[42:57,'Summer'])\n",
        "plt.plot(df.loc[42:57,'Year'],df.loc[42:57,'Autumn'])\n",
        "plt.legend(['Winter','Spring','Summer','Autumn'])\n",
        "plt.show()"
      ]
    },
    {
      "cell_type": "markdown",
      "id": "1ae65b26-c2b2-4fc1-a1a6-05596a93b55d",
      "metadata": {},
      "source": [
        "### 5.a - Using new data frame computing horizontal sliding window averages for each season based on the current and the previous 4 years"
      ]
    },
    {
      "cell_type": "code",
      "execution_count": 39,
      "id": "c8daaecc-7090-4f51-938f-09d7fce03dd3",
      "metadata": {
        "trusted": true
      },
      "outputs": [],
      "source": [
        "l = []\n",
        "for i in range(len(new_df)):\n",
        "    l.append(0) \n",
        "new_df['Winter_mean'] = l\n",
        "new_df['Spring_mean'] = l\n",
        "new_df['Summer_mean'] = l\n",
        "new_df['Autumn_mean'] = l\n",
        "\n",
        "def mean(lst):  # Function for calculating mean\n",
        "    sum = 0\n",
        "    for i in lst:\n",
        "        sum += i\n",
        "    return sum/len(lst)\n",
        "\n",
        "for i in range(len(new_df)-1):\n",
        "    for j in range(4):\n",
        "        if i <4:\n",
        "            new_df.iat[i,j+4] = new_df.iloc[i,j]\n",
        "        else:\n",
        "            new_df.iat[i,j+4] = mean(new_df.iloc[i-4:i+1,j])"
      ]
    },
    {
      "cell_type": "markdown",
      "id": "b2d9672a-ee73-46c6-8bac-585b5117d8c8",
      "metadata": {},
      "source": [
        " ### 5.b - Print the row data for the years 1950, 1960, 1970, 1980, 1990, and 2000"
      ]
    },
    {
      "cell_type": "code",
      "execution_count": 40,
      "id": "05e491b0-c2a5-46f1-ac76-dcfc19efcac0",
      "metadata": {
        "trusted": true
      },
      "outputs": [
        {
          "name": "stdout",
          "output_type": "stream",
          "text": [
            "        Winter    Spring    Summer    Autumn  Winter_mean  Spring_mean  \\\n",
            "Year                                                                     \n",
            "1950  5.733333  5.866667  4.966667  4.266667     5.733333     5.866667   \n",
            "1960  5.533333  5.233333  5.500000  5.900000     5.173333     5.153333   \n",
            "1970  4.733333  4.600000  5.000000  5.600000     3.900000     3.840000   \n",
            "1980  6.600000  6.900000  7.700000  7.500000     6.746667     6.706667   \n",
            "1990  5.666667  5.333333  5.466667  6.000000     5.940000     5.920000   \n",
            "2000  4.000000  3.933333  4.033333  3.900000     4.666667     4.653333   \n",
            "\n",
            "      Summer_mean  Autumn_mean  \n",
            "Year                            \n",
            "1950     4.966667     4.266667  \n",
            "1960     5.293333     5.386667  \n",
            "1970     3.953333     4.040000  \n",
            "1980     6.853333     6.766667  \n",
            "1990     5.860000     5.913333  \n",
            "2000     4.600000     4.506667  \n"
          ]
        }
      ],
      "source": [
        "print(new_df.loc['1950':'2000':10,:])"
      ]
    }
  ],
  "metadata": {
    "kernelspec": {
      "display_name": "Python 3.10.0 64-bit",
      "language": "python",
      "name": "python3"
    },
    "language_info": {
      "codemirror_mode": {
        "name": "ipython",
        "version": 3
      },
      "file_extension": ".py",
      "mimetype": "text/x-python",
      "name": "python",
      "nbconvert_exporter": "python",
      "pygments_lexer": "ipython3",
      "version": "3.10.0"
    },
    "vscode": {
      "interpreter": {
        "hash": "eb0c8cf2cc997bb24cad6434848127c3407b2fb52a4527e488705df4ac5c4079"
      }
    }
  },
  "nbformat": 4,
  "nbformat_minor": 5
}
