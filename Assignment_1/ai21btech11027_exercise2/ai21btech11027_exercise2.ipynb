{
  "metadata": {
    "language_info": {
      "codemirror_mode": {
        "name": "python",
        "version": 3
      },
      "file_extension": ".py",
      "mimetype": "text/x-python",
      "name": "python",
      "nbconvert_exporter": "python",
      "pygments_lexer": "ipython3",
      "version": "3.8"
    },
    "kernelspec": {
      "name": "python",
      "display_name": "Pyolite",
      "language": "python"
    }
  },
  "nbformat_minor": 4,
  "nbformat": 4,
  "cells": [
    {
      "cell_type": "markdown",
      "source": "# Quetion 2",
      "metadata": {}
    },
    {
      "cell_type": "markdown",
      "source": "importing important libraries",
      "metadata": {}
    },
    {
      "cell_type": "code",
      "source": "import pandas as pd\nimport numpy as np",
      "metadata": {
        "trusted": true
      },
      "execution_count": 1,
      "outputs": []
    },
    {
      "cell_type": "markdown",
      "source": "opening files in read mode and storing in variables",
      "metadata": {}
    },
    {
      "cell_type": "code",
      "source": "f_1 = open(\"Doc1.txt\",'r')\ns_1 = f_1.read()\nf_2 = open(\"Doc2.txt\",'r')\ns_2 = f_2.read()\nf_3 = open(\"Doc3.txt\",'r')\ns_3 = f_3.read()\nf_4 = open(\"Doc4.txt\",'r')\ns_4 = f_4.read()",
      "metadata": {
        "trusted": true
      },
      "execution_count": 2,
      "outputs": []
    },
    {
      "cell_type": "markdown",
      "source": "## 2.1.a-> function for removing all punctuations, converting all alphabetes to lower case and and converting strings to list",
      "metadata": {}
    },
    {
      "cell_type": "code",
      "source": "def manipulation(s_1):\n    \n    lst = []\n    for i in s_1:\n        if i == \" \":\n            lst.append(i)\n        if i.isalnum():\n            lst.append(i)\n    str1 = \"\"\n    for i in range(len(lst)):\n        str1 += lst[i] \n    str1 = str1.lower()\n    str1 = str1.split(\" \")\n    return str1",
      "metadata": {
        "trusted": true
      },
      "execution_count": 3,
      "outputs": []
    },
    {
      "cell_type": "markdown",
      "source": "Calling functions",
      "metadata": {}
    },
    {
      "cell_type": "code",
      "source": "l1 = manipulation(s_1)\nl2 = manipulation(s_2)\nl3 = manipulation(s_3)\nl4 = manipulation(s_4)",
      "metadata": {
        "trusted": true
      },
      "execution_count": 4,
      "outputs": []
    },
    {
      "cell_type": "markdown",
      "source": "## 2.1.b Combining all list, converting into set and printing",
      "metadata": {}
    },
    {
      "cell_type": "code",
      "source": "sum_l = l1 + l2 + l3 + l4\nl5 = []\nfor i in range(len(sum_l)):\n    if sum_l[i] != \"\":\n        l5.append(sum_l[i])\nvocabulary = set(l5)\nprint(vocabulary)",
      "metadata": {
        "trusted": true
      },
      "execution_count": 5,
      "outputs": [
        {
          "name": "stdout",
          "text": "{'released', 'are', 'days', 'high', 'most', 'series', 'awaited', '2014', 'stranger', 'new', 'thrones', 'things', 'than', 'rated', 'of', 'tv', 'peaky', 'far', 'the', 'among', 'these', 'thrilling', 'better', 'game', 'season', 'movies', 'blinders'}\n",
          "output_type": "stream"
        }
      ]
    },
    {
      "cell_type": "markdown",
      "source": "## 2.2.a Create a frequency table\n",
      "metadata": {
        "tags": []
      }
    },
    {
      "cell_type": "markdown",
      "source": " Function for creating frequency table\n ",
      "metadata": {
        "tags": []
      }
    },
    {
      "cell_type": "code",
      "source": "def make_dic(dictionary,lst_1,lst_2):\n    for i in lst_2:\n        dictionary[i] = 0\n    for i in lst_2:\n        if i in lst_1:\n            dictionary[i] += 1\n    return dictionary",
      "metadata": {
        "trusted": true
      },
      "execution_count": 6,
      "outputs": []
    },
    {
      "cell_type": "code",
      "source": "dict_1 = {}\ndict_2 = {}\ndict_3 = {}\ndict_4 = {}\ndict_1 = make_dic(dict_1,l1,list(vocabulary))\ndict_2 = make_dic(dict_2,l2,list(vocabulary))\ndict_3 = make_dic(dict_3,l3,list(vocabulary))\ndict_4 = make_dic(dict_4,l4,list(vocabulary))",
      "metadata": {
        "trusted": true
      },
      "execution_count": 7,
      "outputs": []
    },
    {
      "cell_type": "markdown",
      "source": "## 2.2.b Combine all the dictionary information into a single dataframe of the size 4 X M",
      "metadata": {}
    },
    {
      "cell_type": "code",
      "source": "data = [dict_1,dict_2,dict_3,dict_4]\ndf = pd.DataFrame(data)\nprint(df)\nv = df.values\nv1 = list(v[0])\nv2 = list(v[1])\nv3 = list(v[2])\nv4 = list(v[3])",
      "metadata": {
        "trusted": true
      },
      "execution_count": 8,
      "outputs": [
        {
          "name": "stdout",
          "text": "   released  are  days  high  most  series  awaited  2014  stranger  new  ...  \\\n0         0    0     0     0     0       1        0     0         0    0  ...   \n1         0    0     0     1     0       1        0     1         0    0  ...   \n2         0    1     1     0     0       1        0     0         0    0  ...   \n3         1    0     0     0     1       0        1     0         1    1  ...   \n\n   far  the  among  these  thrilling  better  game  season  movies  blinders  \n0    0    0      0      0          1       0     0       0       0         1  \n1    0    1      1      0          0       0     1       0       0         1  \n2    1    0      0      1          0       1     0       0       1         0  \n3    0    0      0      0          0       0     0       1       0         0  \n\n[4 rows x 27 columns]\n",
          "output_type": "stream"
        }
      ]
    },
    {
      "cell_type": "markdown",
      "source": "## 2.3 Cosine similarity",
      "metadata": {}
    },
    {
      "cell_type": "markdown",
      "source": "function for calculating cosine similarity",
      "metadata": {}
    },
    {
      "cell_type": "code",
      "source": "def cosim(lst_1,lst_2):\n    dot = 0\n    n_1,n_2 = 0,0 \n    for i in range(len(lst_1)):\n        dot += lst_1[i]*lst_2[i]\n        n_1 += lst_1[i]**2\n        n_2 += lst_2[i]**2\n    return (dot/((n_1**(1/2))*(n_2**(1/2))))",
      "metadata": {
        "trusted": true
      },
      "execution_count": 9,
      "outputs": []
    },
    {
      "cell_type": "markdown",
      "source": "Printing matrix consisting of similarity between all pairs of review",
      "metadata": {}
    },
    {
      "cell_type": "code",
      "source": "arr = [v1,v2,v3,v4]\nmatrix = []\nfor i in range(len(arr)):\n    column = []\n    for j in range(len(arr)):\n        column.append(cosim(arr[i],arr[j]))\n    matrix.append(column)\ndg = np.array(matrix)\nprint(dg)",
      "metadata": {
        "trusted": true
      },
      "execution_count": 10,
      "outputs": [
        {
          "name": "stdout",
          "text": "[[1.         0.51639778 0.2981424  0.        ]\n [0.51639778 1.         0.19245009 0.        ]\n [0.2981424  0.19245009 1.         0.        ]\n [0.         0.         0.         1.        ]]\n",
          "output_type": "stream"
        }
      ]
    },
    {
      "cell_type": "markdown",
      "source": "Print the top 3 review pairs with the highest similarity",
      "metadata": {}
    },
    {
      "cell_type": "code",
      "source": "dict_val = []\ndict_key = []\nreq_dict = {}\nlst = []\nlst.append(s_1)\nlst.append(s_2)\nlst.append(s_3)\nlst.append(s_4)\nfor i in range(len(dg)):\n    for j in range(len(dg[i])):\n        if i!=j:\n            if (dg[i][j]) != 0 and (dg[i][j]) not in dict_val:\n                dict_val.append(dg[i][j])\n                dict_key.append(str(lst[i])+\",\"+str(lst[j]))\nfor i in range(len(dict_val)):\n    req_dict[dict_key[i]] = dict_val[i]\nfor i in dict_key:\n    print(i,\"AND\",req_dict[i],\"\\n\")",
      "metadata": {
        "trusted": true
      },
      "execution_count": 22,
      "outputs": [
        {
          "name": "stdout",
          "text": "Peaky Blinders: thrilling tv series!!!,Game of Thrones, & Peaky blinders rated high among the tv series: 2014.. AND 0.5163977794943222 \n\nPeaky Blinders: thrilling tv series!!!,TV series these days are far better than movies! AND 0.29814239699997197 \n\nGame of Thrones, & Peaky blinders rated high among the tv series: 2014..,TV series these days are far better than movies! AND 0.19245008972987526 \n\n",
          "output_type": "stream"
        }
      ]
    },
    {
      "cell_type": "code",
      "source": "",
      "metadata": {},
      "execution_count": null,
      "outputs": []
    }
  ]
}