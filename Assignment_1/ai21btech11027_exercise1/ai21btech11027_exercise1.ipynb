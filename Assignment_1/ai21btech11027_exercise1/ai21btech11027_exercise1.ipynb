{
  "cells": [
    {
      "cell_type": "markdown",
      "metadata": {},
      "source": [
        "# Question 1"
      ]
    },
    {
      "cell_type": "markdown",
      "metadata": {},
      "source": [
        "### 1.1 Load the shopping.csv file to a dataframe"
      ]
    },
    {
      "cell_type": "code",
      "execution_count": null,
      "metadata": {
        "trusted": true
      },
      "outputs": [],
      "source": [
        "import pandas as pd\n",
        "import re\n",
        "df = pd.read_csv('shopping.csv')\n",
        "a=df.iloc[:,:33].values"
      ]
    },
    {
      "cell_type": "markdown",
      "metadata": {},
      "source": [
        "### 1.2 Create a python dictionary to store all the transaction details"
      ]
    },
    {
      "cell_type": "code",
      "execution_count": null,
      "metadata": {
        "trusted": true
      },
      "outputs": [],
      "source": [
        "my_dict = {}\n",
        "lst = []\n",
        "for i in range(len(a)):\n",
        "    item = []\n",
        "    for j in range(int(a[i][0])):\n",
        "        item.append(a[i][j+1])\n",
        "    lst.append(item)  \n",
        "\n",
        "key_lst = []\n",
        "for i in range(1,len(a)+1):\n",
        "    key_lst.append('T'+str(i))\n",
        "for i in range(len(a)):\n",
        "    my_dict [key_lst[i]] = lst[i]"
      ]
    },
    {
      "cell_type": "markdown",
      "metadata": {},
      "source": [
        "Printing the first five key-value pairs"
      ]
    },
    {
      "cell_type": "code",
      "execution_count": null,
      "metadata": {
        "trusted": true
      },
      "outputs": [],
      "source": [
        "My_dict_5 = {}\n",
        "for i in range(5):\n",
        "    My_dict_5[key_lst[i]] = lst[i]\n",
        "print(My_dict_5)"
      ]
    },
    {
      "cell_type": "markdown",
      "metadata": {},
      "source": [
        "### 1.3 Required changes and finally arranging in lexical order"
      ]
    },
    {
      "cell_type": "code",
      "execution_count": null,
      "metadata": {
        "trusted": true
      },
      "outputs": [],
      "source": [
        "for i in range(len(a)):\n",
        "    lst_1 = my_dict[key_lst[i]]\n",
        "    for j in range(int(a[i][0])):\n",
        "        str = lst_1[j]\n",
        "        str = re.sub(\"\\s\",\"_\",str)\n",
        "        lst[i][j] = str\n",
        "for i in range(len(a)):\n",
        "    my_dict[key_lst[i]].sort()"
      ]
    },
    {
      "cell_type": "markdown",
      "metadata": {},
      "source": [
        "### 1.4 A function that takes id and show transactions"
      ]
    },
    {
      "cell_type": "code",
      "execution_count": null,
      "metadata": {
        "trusted": true
      },
      "outputs": [],
      "source": [
        "def print_items(id):\n",
        "    print(my_dict[key_lst[id-1]])\n",
        "print_items(32)\n",
        "print_items(68)\n",
        "print_items(78)"
      ]
    },
    {
      "cell_type": "markdown",
      "metadata": {},
      "source": [
        "\n",
        "### 1.5 Generating a list of frequent one-itemsets purchased"
      ]
    },
    {
      "cell_type": "code",
      "execution_count": null,
      "metadata": {
        "trusted": true
      },
      "outputs": [],
      "source": [
        "lst_2 = []\n",
        "for i in range(len(a)):\n",
        "    for j in range(int(a[i][0])):\n",
        "        lst_2.append(lst[i][j])\n",
        "lst_2 = list(set(lst_2))\n",
        "lst_2.sort()\n",
        "print(len(lst_2))\n",
        "\n",
        "My_dict_2 = {}\n",
        "for i in range(len(lst_2)):\n",
        "    My_dict_2[lst_2[i]] = 0\n",
        "\n",
        "for i in range(len(a)):\n",
        "    for j in range(int(a[i][0])):\n",
        "        if(lst[i][j] in lst_2):\n",
        "            My_dict_2[lst[i][j]] += 1\n",
        "\n",
        "Support_dict_1 = {'support@0.5': 0,'support@1': 0,'support@2': 0,'support@3': 0,'support@5': 0,'support@10': 0}\n",
        "\n",
        "l_1 = []\n",
        "for i in range(len(lst_2)):\n",
        "    support = (My_dict_2[lst_2[i]]/len(a))*100\n",
        "    if (support>0.5):\n",
        "        Support_dict_1['support@0.5'] += 1\n",
        "    if (support>1):\n",
        "        Support_dict_1['support@1'] += 1\n",
        "    if (support>2):\n",
        "        Support_dict_1['support@2'] += 1\n",
        "    if (support>3):\n",
        "        Support_dict_1['support@3'] += 1\n",
        "        l_1.append(lst_2[i])\n",
        "    if (support>5):\n",
        "        Support_dict_1['support@5'] += 1\n",
        "    if (support>10):\n",
        "        Support_dict_1['support@10'] += 1\n",
        "print(Support_dict_1)"
      ]
    },
    {
      "cell_type": "markdown",
      "metadata": {},
      "source": [
        "Priinting items whose support value is at least 3"
      ]
    },
    {
      "cell_type": "code",
      "execution_count": null,
      "metadata": {
        "trusted": true
      },
      "outputs": [],
      "source": [
        "print(\"Support@3:\",l_1)"
      ]
    },
    {
      "attachments": {},
      "cell_type": "markdown",
      "metadata": {},
      "source": [
        "### 1.6 Generating the table of most frequent two-itemsets from the dataset"
      ]
    },
    {
      "cell_type": "code",
      "execution_count": null,
      "metadata": {
        "trusted": true
      },
      "outputs": [],
      "source": [
        "from itertools import combinations\n",
        "arr = lst_2\n",
        "lst_3 = list(combinations(arr, 2))\n",
        "My_dict_3 = {}\n",
        "\n",
        "for i in range(len(lst_3)):\n",
        "    My_dict_3[lst_3[i]] = 0; \n",
        "\n",
        "for i in range(len(a)):\n",
        "    for k in range(len(lst_3)):\n",
        "        if ((lst_3[k][0] in lst[i]) and (lst_3[k][1] in lst[i])):\n",
        "            My_dict_3[lst_3[k]] +=1\n",
        "            \n",
        "Support_dict_2 = {'support@0.5': 0,'support@1': 0,'support@2': 0,'support@3': 0,'support@5': 0,'support@10': 0}\n",
        "l_2 = [] \n",
        "for i in range(len(lst_3)):\n",
        "    support = (My_dict_3[lst_3[i]]/len(a))*100\n",
        "    if (support>0.5):\n",
        "        Support_dict_2['support@0.5'] += 1\n",
        "    if (support>1):\n",
        "        Support_dict_2['support@1'] += 1\n",
        "    if (support>2):\n",
        "        Support_dict_2['support@2'] += 1\n",
        "    if (support>3):\n",
        "        Support_dict_2['support@3'] += 1\n",
        "        l_2.append(lst_3[i])\n",
        "    if (support>5):\n",
        "        Support_dict_2['support@5'] += 1\n",
        "    if (support>10):\n",
        "        Support_dict_2['support@10'] += 1\n",
        "print(Support_dict_2)\n"
      ]
    },
    {
      "cell_type": "markdown",
      "metadata": {},
      "source": [
        "Printing two-item sets whose support value is at least 3"
      ]
    },
    {
      "cell_type": "code",
      "execution_count": null,
      "metadata": {
        "trusted": true
      },
      "outputs": [],
      "source": [
        "print(\"Support@3:\",l_2)"
      ]
    }
  ],
  "metadata": {
    "kernelspec": {
      "display_name": "Python 3.9.12 ('base')",
      "language": "python",
      "name": "python3"
    },
    "language_info": {
      "codemirror_mode": {
        "name": "python",
        "version": 3
      },
      "file_extension": ".py",
      "mimetype": "text/x-python",
      "name": "python",
      "nbconvert_exporter": "python",
      "pygments_lexer": "ipython3",
      "version": "3.9.12"
    },
    "vscode": {
      "interpreter": {
        "hash": "1523350baee97ddee62f5570fd2d541d3ced00ddf4a4081bb9b2fc69188987b7"
      }
    }
  },
  "nbformat": 4,
  "nbformat_minor": 4
}
